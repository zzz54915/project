{
 "cells": [
  {
   "cell_type": "markdown",
   "metadata": {},
   "source": [
    "<h2> 인구밀도 데이터 전처리</h2>"
   ]
  },
  {
   "cell_type": "code",
   "execution_count": 87,
   "metadata": {},
   "outputs": [],
   "source": [
    "import pandas as pd\n",
    "\n",
    "# 엑셀 파일 읽기\n",
    "excel_file = 'data/2023년도 지역별 인구밀도.xlsx'\n",
    "df = pd.read_excel(excel_file, engine='openpyxl')\n",
    "\n",
    "# 데이터프레임을 JSON 형식으로 변환\n",
    "json_data = df.to_json(orient='records', force_ascii=False)\n",
    "\n",
    "# JSON 파일로 저장\n",
    "with open('data/2023지역별인구밀도.json', 'w', encoding='utf-8') as json_file:\n",
    "    json_file.write(json_data)"
   ]
  },
  {
   "cell_type": "code",
   "execution_count": 88,
   "metadata": {},
   "outputs": [
    {
     "name": "stdout",
     "output_type": "stream",
     "text": [
      "데이터 컬럼 확인:\n",
      "Index(['Unnamed', '인구', '인구밀도'], dtype='object', name=0)\n",
      "전처리된 데이터 확인:\n",
      "   지역    인구    인구밀도\n",
      "0  서울  9400  15.533\n",
      "1  부산  3284   4.258\n",
      "2  대구  2360   2.666\n",
      "3  인천  3009   2.820\n",
      "4  광주  1463   2.921\n"
     ]
    }
   ],
   "source": [
    "import pandas as pd\n",
    "\n",
    "# JSON 파일 읽기\n",
    "json_file = 'data/2023지역별인구밀도.json'\n",
    "df = pd.read_json(json_file)\n",
    "\n",
    "# 첫 번째 행을 헤더로 설정하고, 나머지 행을 데이터로 설정\n",
    "df.columns = df.iloc[0]  # 첫 번째 행을 열 이름으로 사용\n",
    "df = df.drop(0).reset_index(drop=True)  # 첫 번째 행을 데이터에서 제거\n",
    "\n",
    "# 컬럼 이름에 None이 있는 경우 처리\n",
    "df.columns = df.columns.fillna('Unnamed')\n",
    "\n",
    "# 데이터 확인: 현재 열 이름을 출력하여 확인합니다.\n",
    "print(\"데이터 컬럼 확인:\")\n",
    "print(df.columns)\n",
    "\n",
    "# 불필요한 열 제거: 'Unnamed'로 시작하는 열 이름을 사용\n",
    "df = df[['Unnamed', '인구', '인구밀도']]  # 필요한 열만 선택\n",
    "\n",
    "# 컬럼 이름 변경\n",
    "df.columns = ['지역', '인구', '인구밀도']\n",
    "\n",
    "# '계' 행 제거 (합계 관련 행)\n",
    "df = df[df['지역'] != '계'].reset_index(drop=True)\n",
    "\n",
    "# 쉼표 제거 후 숫자형으로 변환\n",
    "df['인구'] = df['인구'].apply(lambda x: int(x.replace(',', '')) if isinstance(x, str) else x)\n",
    "df['인구밀도'] = df['인구밀도'].apply(lambda x: int(x.replace(',', '')) if isinstance(x, str) else x)\n",
    "\n",
    "# 인구밀도 단위 변경 (천명/㎢로 변환)\n",
    "df['인구밀도'] = df['인구밀도'] / 1000  # 천명으로 변환\n",
    "\n",
    "# 데이터 확인\n",
    "print(\"전처리된 데이터 확인:\")\n",
    "print(df.head())  # 전처리된 데이터 확인\n"
   ]
  },
  {
   "cell_type": "markdown",
   "metadata": {},
   "source": [
    "\n"
   ]
  },
  {
   "cell_type": "markdown",
   "metadata": {},
   "source": [
    "<h2>2024 전국 문화기반시설 총람 데이터 전처리</h2>"
   ]
  },
  {
   "cell_type": "code",
   "execution_count": 90,
   "metadata": {},
   "outputs": [
    {
     "name": "stdout",
     "output_type": "stream",
     "text": [
      "국립도서관 탭이 data/국립도서관.json로 저장되었습니다.\n",
      "공공도서관 탭이 data/공공도서관.json로 저장되었습니다.\n",
      "박물관 탭이 data/박물관.json로 저장되었습니다.\n",
      "미술관 탭이 data/미술관.json로 저장되었습니다.\n",
      "생활문화센터 탭이 data/생활문화센터.json로 저장되었습니다.\n",
      "문예회관 탭이 data/문예회관.json로 저장되었습니다.\n",
      "지방문화원 탭이 data/지방문화원.json로 저장되었습니다.\n",
      "문화의집 탭이 data/문화의집.json로 저장되었습니다.\n",
      "문학관 탭이 data/문학관.json로 저장되었습니다.\n",
      "(부록)지역문화재단 탭이 data/(부록)지역문화재단.json로 저장되었습니다.\n"
     ]
    }
   ],
   "source": [
    "import pandas as pd\n",
    "\n",
    "# 엑셀 파일 읽기\n",
    "excel_file = 'data/2024 전국 문화기반시설 총람.xlsx'\n",
    "\n",
    "# 엑셀 파일 내의 모든 시트(탭) 읽기\n",
    "df = pd.read_excel(excel_file, sheet_name=None)\n",
    "\n",
    "# 각 시트를 JSON 파일로 저장\n",
    "for sheet_name, data in df.items():\n",
    "    # JSON 파일로 저장\n",
    "    json_file = f'data/{sheet_name}.json'\n",
    "    data.to_json(json_file, orient='records', force_ascii=False, indent=4)\n",
    "\n",
    "    print(f'{sheet_name} 탭이 {json_file}로 저장되었습니다.')\n"
   ]
  },
  {
   "cell_type": "code",
   "execution_count": 91,
   "metadata": {},
   "outputs": [
    {
     "name": "stdout",
     "output_type": "stream",
     "text": [
      "    연번  시도   시군구 설립주체      도서관명                          주소\n",
      "0  1.0  서울   서초구   국립   국립중앙도서관    서울특별시 서초구 반포대로 201 (반포동)\n",
      "1  2.0  서울  영등포구   국립     국회도서관   서울특별시 영등포구 의사당대로 1 (여의도동)\n",
      "2  3.0  서울   서초구   국립  국립장애인도서관    서울특별시 서초구 반포대로 201 (반포동)\n",
      "3  4.0  경기   고양시   국립     법원도서관  경기도 고양시 일산동구 호수로 550 (장항동)\n"
     ]
    }
   ],
   "source": [
    "import pandas as pd\n",
    "import json\n",
    "\n",
    "# JSON 파일 로드\n",
    "json_file = 'data/2024_전국_문화기반시설_총람.json'\n",
    "\n",
    "# JSON 데이터 로드\n",
    "with open(json_file, 'r', encoding='utf-8') as f:\n",
    "    data = json.load(f)\n",
    "\n",
    "# 국립도서관 데이터 로드\n",
    "df_national = pd.DataFrame(data[\"국립도서관\"])\n",
    "\n",
    "# 필요한 컬럼만 선택 (시도, 시군구, 설립주체, 도서관명, 주소)\n",
    "df_national_cleaned = df_national[['연번','시도', '시군구', '설립주체', '도서관명', '주소']]\n",
    "\n",
    "# 데이터 확인\n",
    "print(df_national_cleaned.head())\n",
    "\n",
    "# JSON 파일로 저장 (orient='records'로 저장하여 각 행을 개별 JSON 객체로 저장)\n",
    "df_national_cleaned.to_json('data/국립도서관_cleaned.json', orient='records', force_ascii=False, indent=4)\n"
   ]
  },
  {
   "cell_type": "code",
   "execution_count": 25,
   "metadata": {},
   "outputs": [
    {
     "name": "stdout",
     "output_type": "stream",
     "text": [
      "  연번  시도  시군구 설립주체             도서관명                                        주소\n",
      "0  1  서울  강남구  교육청    서울특별시교육청강남도서관  서울특별시 강남구 선릉로116길 45 (삼성동) 서울특별시교육청강남도서관\n",
      "1  2  서울  강남구  교육청    서울특별시교육청개포도서관   서울특별시 강남구 선릉로4길 30 (개포동) 서울특별시교육청 개포도서관\n",
      "2  3  서울  강동구  교육청    서울특별시교육청강동도서관          서울특별시 강동구 양재대로116길 57 (길동) 강동도서관\n",
      "3  4  서울  강동구  교육청  서울특별시교육청고덕평생학습관           서울특별시 강동구 고덕로 295 (고덕동) 고덕평생학습관\n",
      "4  5  서울  강서구  교육청    서울특별시교육청강서도서관          서울특별시 강서구 등촌로51나길 29 (등촌동) 강서도서관\n"
     ]
    }
   ],
   "source": [
    "import pandas as pd\n",
    "import json\n",
    "\n",
    "# JSON 파일 로드\n",
    "json_file = 'data/2024_전국_문화기반시설_총람.json'\n",
    "\n",
    "# JSON 데이터 로드\n",
    "with open(json_file, 'r', encoding='utf-8') as f:\n",
    "    data = json.load(f)\n",
    "\n",
    "# 공공도서관 데이터 로드\n",
    "df_public = pd.DataFrame(data[\"공공도서관\"])\n",
    "\n",
    "# 필요한 컬럼만 선택 (연번, 시도, 시군구, 설립주체, 도서관명)\n",
    "df_public_cleaned = df_public[['연번', '시도', '시군구', '설립주체', '도서관명','주소']]\n",
    "\n",
    "# 데이터 확인\n",
    "print(df_public_cleaned.head())\n",
    "\n",
    "# JSON 파일로 저장\n",
    "df_public_cleaned.to_json('data/공공도서관_cleaned.json', orient='records', force_ascii=False, indent=4)\n"
   ]
  },
  {
   "cell_type": "code",
   "execution_count": 31,
   "metadata": {},
   "outputs": [
    {
     "name": "stdout",
     "output_type": "stream",
     "text": [
      "    연번     시도  시군구       시설명                   주    소\n",
      "0  NaN    NaN  NaN       NaN                      NaN\n",
      "1  1.0  서울특별시  강남구    강남구민회관  서울특별시 강남구 삼성로 154 (대치동)\n",
      "2  2.0  서울특별시  강동구    강동아트센터         서울특별시 강동구 동남로870\n",
      "3  3.0  서울특별시  강북구  강북문화예술회관        서울특별시 강북구 삼각산로 85\n",
      "4  4.0  서울특별시  강서구    강서구민회관        서울특별시 강서구 우장산로 66\n"
     ]
    }
   ],
   "source": [
    "import pandas as pd\n",
    "import json\n",
    "\n",
    "# JSON 파일 로드\n",
    "json_file = 'data/2024_전국_문화기반시설_총람.json'\n",
    "\n",
    "# JSON 데이터 로드\n",
    "with open(json_file, 'r', encoding='utf-8') as f:\n",
    "    data = json.load(f)\n",
    "\n",
    "# 문예회관 데이터 로드\n",
    "df_culture = pd.DataFrame(data[\"문예회관\"])\n",
    "\n",
    "# 첫 번째 행(결측값)을 제거\n",
    "df_culture_cleaned = df_culture.dropna(how='all').reset_index(drop=True)\n",
    "\n",
    "# 필요한 컬럼만 선택 (연번, 시도, 시군구, 건립주체, 시설명, 주    소)\n",
    "df_culture_cleaned = df_culture_cleaned[['연번', '시도', '시군구', '시설명', '주    소']]\n",
    "\n",
    "# 데이터 확인\n",
    "print(df_culture_cleaned.head())\n",
    "\n",
    "# JSON 파일로 저장\n",
    "df_culture_cleaned.to_json('data/문예회관_cleaned.json', orient='records', force_ascii=False, indent=4)\n"
   ]
  },
  {
   "cell_type": "code",
   "execution_count": 86,
   "metadata": {},
   "outputs": [
    {
     "name": "stdout",
     "output_type": "stream",
     "text": [
      "   연번  시도  시군구                          박물관명                  주소\n",
      "2   1  서울  용산구                       국립중앙박물관  서울특별시 용산구 서빙고로 137\n",
      "3   2  서울  종로구                       국립민속박물관    서울특별시 종로구 삼청로 37\n",
      "4   3  경기  파주시  국립민속박물관 파주\\n(개방형 수장고 및 정보센터)    경기도 파주시 헤이리로 30 \n",
      "5   4  서울  종로구                     대한민국역사박물관  서울특별시 종로구 세종대로 198\n",
      "6   5  서울  용산구                       국립한글박물관  서울특별시 용산구 서빙고로 139\n"
     ]
    }
   ],
   "source": [
    "import pandas as pd\n",
    "\n",
    "# Excel 파일 경로\n",
    "file_path = 'data/2024 전국 문화기반시설 총람.xlsx'\n",
    "\n",
    "# '박물관' 시트에서 데이터 로드\n",
    "df_museum = pd.read_excel(file_path, sheet_name='박물관')\n",
    "\n",
    "# 열 이름의 공백 제거\n",
    "df_museum.columns = df_museum.columns.str.strip()\n",
    "\n",
    "# 불필요한 'Unnamed'로 시작하는 열 제거\n",
    "df_museum_cleaned = df_museum.loc[:, ~df_museum.columns.str.contains('^Unnamed')]\n",
    "\n",
    "# 필요한 열만 선택 (연번, 시도, 시군구, 박물관명, 주소)\n",
    "df_museum_cleaned = df_museum_cleaned[['연번', '시도', '시군구', '박물관명', '주소']]\n",
    "\n",
    "# 연번 1번, 2번 삭제\n",
    "df_museum_cleaned = df_museum_cleaned.drop([0, 1])  # 첫 번째, 두 번째 행 삭제\n",
    "\n",
    "# 연번을 1부터 새로 매기기\n",
    "df_museum_cleaned['연번'] = range(1, len(df_museum_cleaned) + 1)\n",
    "\n",
    "# 데이터 확인\n",
    "print(df_museum_cleaned.head())\n",
    "\n",
    "# CSV 파일로 저장\n",
    "df_museum_cleaned.to_json('data/박물관_cleaned_with_new_연번.json', orient='records', force_ascii=False, indent=4)\n"
   ]
  },
  {
   "cell_type": "code",
   "execution_count": 74,
   "metadata": {},
   "outputs": [
    {
     "name": "stdout",
     "output_type": "stream",
     "text": [
      "    연번   시도  시군구                          박물관명                  주소\n",
      "0  NaN  NaN  NaN                           NaN                 NaN\n",
      "1  NaN  NaN  NaN                           NaN                 NaN\n",
      "2  1.0   서울  용산구                       국립중앙박물관  서울특별시 용산구 서빙고로 137\n",
      "3  2.0   서울  종로구                       국립민속박물관    서울특별시 종로구 삼청로 37\n",
      "4  NaN   경기  파주시  국립민속박물관 파주\\n(개방형 수장고 및 정보센터)    경기도 파주시 헤이리로 30 \n"
     ]
    }
   ],
   "source": [
    "# 데이터 확인\n",
    "print(df_museum_cleaned.head())\n"
   ]
  },
  {
   "cell_type": "code",
   "execution_count": null,
   "metadata": {},
   "outputs": [],
   "source": []
  }
 ],
 "metadata": {
  "kernelspec": {
   "display_name": "study",
   "language": "python",
   "name": "python3"
  },
  "language_info": {
   "codemirror_mode": {
    "name": "ipython",
    "version": 3
   },
   "file_extension": ".py",
   "mimetype": "text/x-python",
   "name": "python",
   "nbconvert_exporter": "python",
   "pygments_lexer": "ipython3",
   "version": "3.12.7"
  }
 },
 "nbformat": 4,
 "nbformat_minor": 2
}
